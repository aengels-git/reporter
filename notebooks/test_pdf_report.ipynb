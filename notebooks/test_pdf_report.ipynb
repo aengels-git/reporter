{
 "cells": [
  {
   "cell_type": "code",
   "execution_count": 15,
   "metadata": {},
   "outputs": [],
   "source": [
    "import os\n",
    "CURDIR = os.getcwd().split(\"\\\\\")\n",
    "if \"notebooks\" in CURDIR:\n",
    "    n = len(CURDIR) - CURDIR.index(\"notebooks\")\n",
    "    os.chdir(os.getcwd() + (\"\\\\..\" * n))"
   ]
  },
  {
   "cell_type": "code",
   "execution_count": 16,
   "metadata": {},
   "outputs": [],
   "source": [
    "from visualize import *\n",
    "from prep import *\n",
    "import seaborn as sns\n",
    "diamonds = sns.load_dataset(\"diamonds\")\n",
    "tab = prep_freq_table(diamonds, \"cut\").to_pandas()"
   ]
  },
  {
   "cell_type": "code",
   "execution_count": 17,
   "metadata": {},
   "outputs": [],
   "source": [
    "from reporter.PDFDocument import PDFDocument\n",
    "report = PDFDocument(title=\"My first report\",author=\"Alexander Engels\")\n",
    "bp = BarPlot(tab, x=\"cut\",y=\"proportion\")\n",
    "report.add_plot(bp,name=\"barplot_cut\")"
   ]
  },
  {
   "cell_type": "code",
   "execution_count": 19,
   "metadata": {},
   "outputs": [],
   "source": [
    "report.text(\" stufff dsadjaslkdajslk\")\n",
    "report.add_plot(bp,name=\"barplot_cut2\")"
   ]
  },
  {
   "cell_type": "code",
   "execution_count": 20,
   "metadata": {},
   "outputs": [],
   "source": [
    "report.text(\" stufff dsadjaslkdajslk\", level=1)\n",
    "report.add_table(diamonds.head(), name=\"diam_head\")"
   ]
  },
  {
   "cell_type": "code",
   "execution_count": 21,
   "metadata": {},
   "outputs": [],
   "source": [
    "tab = prep_freq_table(diamonds, [\"cut\",\"color\"])\n",
    "\n",
    "\n",
    "# default all numeric:\n",
    "format_mapping = {col: f\"{{:,.{2}f}}\" for col in tab.select_dtypes(include='number').columns}\n",
    "for key, value in format_mapping.items():\n",
    "        tab[key] = tab[key].apply(value.format)\n",
    "\n",
    "# integers, percents und floats separat angeben \n",
    "\n",
    "\n"
   ]
  },
  {
   "cell_type": "code",
   "execution_count": 22,
   "metadata": {},
   "outputs": [
    {
     "name": "stdout",
     "output_type": "stream",
     "text": [
      "\n",
      "\n",
      "Starting python3 kernel...Done\n",
      "\n",
      "Executing 'tmp0c_qev1n.ipynb'\n",
      "  Cell 1/6...Done\n",
      "  Cell 2/6...Done\n",
      "  Cell 3/6...Done\n",
      "  Cell 4/6...Done\n",
      "  Cell 5/6...Done\n",
      "  Cell 6/6...Done\n",
      "\n",
      "pandoc \n",
      "  to: latex\n",
      "  output-file: tmp0c_qev1n.tex\n",
      "  standalone: true\n",
      "  pdf-engine: xelatex\n",
      "  variables:\n",
      "    graphics: true\n",
      "    tables: true\n",
      "  default-image-extension: pdf\n",
      "  toc: false\n",
      "  toc-depth: 3\n",
      "  \n",
      "metadata\n",
      "  documentclass: scrartcl\n",
      "  classoption:\n",
      "    - DIV=11\n",
      "    - numbers=noendperiod\n",
      "  papersize: letter\n",
      "  header-includes:\n",
      "    - '\\KOMAoption{captions}{tableheading}'\n",
      "  block-headings: true\n",
      "  title: My first report\n",
      "  author: Alexander Engels\n",
      "  \n",
      "running xelatex - 1\n",
      "  This is XeTeX, Version 3.141592653-2.6-0.999995 (TeX Live 2023) (preloaded format=xelatex)\n",
      "   restricted \\write18 enabled.\n",
      "  entering extended mode\n",
      "  \n",
      "running xelatex - 2\n",
      "  This is XeTeX, Version 3.141592653-2.6-0.999995 (TeX Live 2023) (preloaded format=xelatex)\n",
      "   restricted \\write18 enabled.\n",
      "  entering extended mode\n",
      "  \n",
      "\n",
      "Output created: tmp0c_qev1n.pdf\n",
      "\n",
      "\n"
     ]
    }
   ],
   "source": [
    "report.save(\"test 3.pdf\")"
   ]
  },
  {
   "cell_type": "code",
   "execution_count": 12,
   "metadata": {},
   "outputs": [
    {
     "name": "stdout",
     "output_type": "stream",
     "text": [
      "['---\\n', \"title: 'My first report'\\n\", \"author: 'Alexander Engels'\\n\", 'format:\\n', '  pdf:\\n', '    toc: False\\n', '    toc-depth: 3\\n', '---\\n', '\\n', '```{python}\\n', '#| eval: true\\n', '#| echo: false\\n', '#| output: true\\n', '#| warning: false\\n', '#| error: false\\n', '#| include: false\\n', 'import matplotlib.pyplot as plt\\n', 'import pickle\\n', '\\n', '```\\n', '\\n', '```{python}\\n', '#| eval: true\\n', '#| echo: false\\n', '#| output: true\\n', '#| warning: false\\n', '#| error: false\\n', '#| include: true\\n', \"with open(r'C:\\\\Users\\\\u890640\\\\AppData\\\\Roaming\\\\reporter\\\\rtmmirwzef.pkl','rb') as fid:\\n\", '    p = pickle.load(fid)\\n', 'p.plot(8, 4)\\n', '\\n', '```\\n', '\\n', '  stufff dsadjaslkdajslk\\n', '\\n', '```{python}\\n', '#| eval: true\\n', '#| echo: false\\n', '#| output: true\\n', '#| warning: false\\n', '#| error: false\\n', '#| include: true\\n', \"with open(r'C:\\\\Users\\\\u890640\\\\AppData\\\\Roaming\\\\reporter\\\\tpnqkmadvs.pkl','rb') as fid:\\n\", '    p = pickle.load(fid)\\n', 'p.plot(8, 4)\\n', '\\n', '```\\n']\n"
     ]
    },
    {
     "ename": "TypeError",
     "evalue": "can only join an iterable",
     "output_type": "error",
     "traceback": [
      "\u001b[1;31m---------------------------------------------------------------------------\u001b[0m",
      "\u001b[1;31mTypeError\u001b[0m                                 Traceback (most recent call last)",
      "\u001b[1;32mc:\\Users\\u890640\\Documents\\Python Pakete\\reporter\\notebooks\\test_pdf_report.ipynb Cell 6\u001b[0m line \u001b[0;36m1\n\u001b[1;32m----> <a href='vscode-notebook-cell:/c%3A/Users/u890640/Documents/Python%20Pakete/reporter/notebooks/test_pdf_report.ipynb#W6sZmlsZQ%3D%3D?line=0'>1</a>\u001b[0m result \u001b[39m=\u001b[39m \u001b[39m\"\u001b[39;49m\u001b[39m\"\u001b[39;49m\u001b[39m.\u001b[39;49mjoin(report\u001b[39m.\u001b[39;49mprint())\n",
      "\u001b[1;31mTypeError\u001b[0m: can only join an iterable"
     ]
    },
    {
     "name": "stdout",
     "output_type": "stream",
     "text": [
      "\n",
      "\n",
      "Starting python3 kernel...Done\n",
      "\n",
      "Executing 'tmpbdbtivln.ipynb'\n",
      "  Cell 1/3...Done\n",
      "  Cell 2/3...Done\n",
      "  Cell 3/3...Done\n",
      "\n",
      "pandoc \n",
      "  to: latex\n",
      "  output-file: tmpbdbtivln.tex\n",
      "  standalone: true\n",
      "  pdf-engine: xelatex\n",
      "  variables:\n",
      "    graphics: true\n",
      "    tables: true\n",
      "  default-image-extension: pdf\n",
      "  toc: false\n",
      "  toc-depth: 3\n",
      "  \n",
      "metadata\n",
      "  documentclass: scrartcl\n",
      "  classoption:\n",
      "    - DIV=11\n",
      "    - numbers=noendperiod\n",
      "  papersize: letter\n",
      "  header-includes:\n",
      "    - '\\KOMAoption{captions}{tableheading}'\n",
      "  block-headings: true\n",
      "  title: My first report\n",
      "  author: Alexander Engels\n",
      "  \n",
      "running xelatex - 1\n",
      "  This is XeTeX, Version 3.141592653-2.6-0.999995 (TeX Live 2023) (preloaded format=xelatex)\n",
      "   restricted \\write18 enabled.\n",
      "  entering extended mode\n",
      "  \n",
      "running xelatex - 2\n",
      "  This is XeTeX, Version 3.141592653-2.6-0.999995 (TeX Live 2023) (preloaded format=xelatex)\n",
      "   restricted \\write18 enabled.\n",
      "  entering extended mode\n",
      "  \n",
      "\n",
      "Output created: tmpbdbtivln.pdf\n",
      "\n",
      "\n"
     ]
    }
   ],
   "source": [
    "result = \"\".join(report.print())"
   ]
  }
 ],
 "metadata": {
  "kernelspec": {
   "display_name": ".venv",
   "language": "python",
   "name": "python3"
  },
  "language_info": {
   "codemirror_mode": {
    "name": "ipython",
    "version": 3
   },
   "file_extension": ".py",
   "mimetype": "text/x-python",
   "name": "python",
   "nbconvert_exporter": "python",
   "pygments_lexer": "ipython3",
   "version": "3.9.13"
  }
 },
 "nbformat": 4,
 "nbformat_minor": 2
}
