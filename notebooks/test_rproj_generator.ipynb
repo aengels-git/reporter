{
 "cells": [
  {
   "cell_type": "code",
   "execution_count": 11,
   "metadata": {},
   "outputs": [],
   "source": [
    "\n",
    "def start_project(name):\n",
    "    import os\n",
    "    if os.path.splitext(name)[-1] != '.Rproj':\n",
    "        raise ValueError(f\"{name} does not end with .Rproj\")\n",
    "    content = \"Version: 1.0\\n\\nRestoreWorkspace: Default\\nSaveWorkspace: Default\\nAlwaysSaveHistory: Default\\n\\nEnableCodeIndexing: Yes\\nUseSpacesForTab: Yes\\nNumSpacesForTab: 2\\nEncoding: UTF-8\\n\\nRnwWeave: Sweave\\nLaTeX: pdfLaTeX\"\n",
    "    with open(name, \"w+\") as f:\n",
    "        f.write(content)\n",
    "        "
   ]
  },
  {
   "cell_type": "code",
   "execution_count": 12,
   "metadata": {},
   "outputs": [],
   "source": [
    "start_project(\"test.Rproj\")"
   ]
  }
 ],
 "metadata": {
  "kernelspec": {
   "display_name": ".venv",
   "language": "python",
   "name": "python3"
  },
  "language_info": {
   "codemirror_mode": {
    "name": "ipython",
    "version": 3
   },
   "file_extension": ".py",
   "mimetype": "text/x-python",
   "name": "python",
   "nbconvert_exporter": "python",
   "pygments_lexer": "ipython3",
   "version": "3.9.13"
  }
 },
 "nbformat": 4,
 "nbformat_minor": 2
}
